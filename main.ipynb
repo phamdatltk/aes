{
 "cells": [
  {
   "cell_type": "code",
   "execution_count": 7,
   "metadata": {},
   "outputs": [
    {
     "name": "stdout",
     "output_type": "stream",
     "text": [
      "Plaintext file content: \n",
      "Hi, my name is Henry\n",
      "Plaintext: \n",
      "b'Hi, my name is Henry'\n",
      "Decrypted: \n",
      "b'Hi, my name is Henry'\n",
      "Hi, my name is Henry\n"
     ]
    }
   ],
   "source": [
    "import aes, os\n",
    "key = os.urandom(16)\n",
    "iv = os.urandom(16)\n",
    "\n",
    "################## Encrypt from sender from Sender folder\n",
    "# Open file\n",
    "print(\"Plaintext file content: \")\n",
    "f = open('Sender/send.txt', 'r')\n",
    "text = f.read()\n",
    "f.close()\n",
    "print(text)\n",
    "\n",
    "plaintext = text.encode('utf-8')\n",
    "print(\"Plaintext: \")\n",
    "print(plaintext)\n",
    "\n",
    "# Encrypt file and send it to Receiver\n",
    "encrypted = aes.AES(key).encrypt_ctr(plaintext, iv)\n",
    "f = open('Receiver/cipher.txt', \"wb\")\n",
    "f.write(encrypted)\n",
    "f.close()\n",
    "\n",
    "\n",
    "################## Decrypt from receiver to Receiver folder\n",
    "# Decrypt file cipher.txt\n",
    "f = open('Receiver/cipher.txt', \"rb\")\n",
    "encrypted = f.read()\n",
    "decrypted = aes.AES(key).decrypt_ctr(encrypted, iv)\n",
    "print(\"Decrypted: \")\n",
    "print(decrypted)\n",
    "\n",
    "# Create file receiver.txt\n",
    "plainDecrypted = decrypted.decode('utf-8')\n",
    "print(plainDecrypted)\n",
    "f# Create file receiver.txt\n",
    "if not os.path.exists('Receiver/receiver.txt'):\n",
    "    # Nếu không tồn tại, tạo file mới\n",
    "    with open('Receiver/receiver.txt', 'w') as f:\n",
    "      f.write(plainDecrypted)\n",
    "      f.close()"
   ]
  }
 ],
 "metadata": {
  "kernelspec": {
   "display_name": "Python 3",
   "language": "python",
   "name": "python3"
  },
  "language_info": {
   "codemirror_mode": {
    "name": "ipython",
    "version": 3
   },
   "file_extension": ".py",
   "mimetype": "text/x-python",
   "name": "python",
   "nbconvert_exporter": "python",
   "pygments_lexer": "ipython3",
   "version": "3.10.12"
  }
 },
 "nbformat": 4,
 "nbformat_minor": 2
}
