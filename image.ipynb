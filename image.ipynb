{
 "cells": [
  {
   "cell_type": "code",
   "execution_count": 1,
   "metadata": {},
   "outputs": [],
   "source": [
    "import aes, os\n",
    "key = os.urandom(16)\n",
    "iv = os.urandom(16)\n",
    "\n",
    "path_sender_image = \"Sender/Group4.png\"\n",
    "\n",
    "################## Encrypt from sender from Sender folder\n",
    "# Open file\n",
    "f = open(path_sender_image, \"rb\")\n",
    "text = f.read()\n",
    "f.close()\n",
    "\n",
    "# Encrypt file and send it to Receiver\n",
    "encrypted = aes.AES(key).encrypt_ctr(text, iv)\n",
    "f = open('Receiver/cipherImage', \"wb\")\n",
    "f.write(encrypted)\n",
    "f.close()\n",
    "\n",
    "\n",
    "################## Decrypt from receiver to Receiver folder\n",
    "# Decrypt file cipher.txt\n",
    "f = open('Receiver/cipherImage', \"rb\")\n",
    "encrypted = f.read()\n",
    "decrypted = aes.AES(key).decrypt_ctr(encrypted, iv)\n",
    "\n",
    "# Create file receiver.txt\n",
    "if not os.path.exists('Receiver/Decrypted.png'):\n",
    "    # Nếu không tồn tại, tạo file mới\n",
    "    with open('Receiver/Decrypted.png', 'wb') as f:\n",
    "      f.write(decrypted)\n",
    "      f.close()"
   ]
  }
 ],
 "metadata": {
  "kernelspec": {
   "display_name": "Python 3",
   "language": "python",
   "name": "python3"
  },
  "language_info": {
   "codemirror_mode": {
    "name": "ipython",
    "version": 3
   },
   "file_extension": ".py",
   "mimetype": "text/x-python",
   "name": "python",
   "nbconvert_exporter": "python",
   "pygments_lexer": "ipython3",
   "version": "3.10.12"
  }
 },
 "nbformat": 4,
 "nbformat_minor": 2
}
